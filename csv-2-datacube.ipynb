{
 "cells": [
  {
   "cell_type": "markdown",
   "metadata": {},
   "source": [
    "# BVL CSV 2 Datacube\n",
    "\n",
    "## Read CSV"
   ]
  },
  {
   "cell_type": "code",
   "execution_count": 1,
   "metadata": {
    "collapsed": false
   },
   "outputs": [],
   "source": [
    "import pandas as pd\n",
    "\n",
    "path = 'data/result.csv'\n",
    "dataframe = pd.read_csv(path, index_col=0)"
   ]
  },
  {
   "cell_type": "markdown",
   "metadata": {},
   "source": [
    "## Transform\n",
    "\n",
    "Currently the transformation works only for a \"matrix\" CSV table with rows and columns. Also the dimension names, labels etc ... are static and not parameterized."
   ]
  },
  {
   "cell_type": "code",
   "execution_count": 2,
   "metadata": {
    "collapsed": false
   },
   "outputs": [],
   "source": [
    "from rdflib import Namespace, Graph, RDF, RDFS, Literal, XSD\n",
    "from slugify import slugify\n",
    "\n",
    "bvl = Namespace('http://le-online.de/')\n",
    "qb = Namespace('http://purl.org/linked-data/cube#')\n",
    "\n",
    "def add_to_graph(tuples, graph):\n",
    "    for t in tuples:\n",
    "        graph.add(t)\n",
    "    return graph\n",
    "\n",
    "def instanciate_dimension_element(instance, ns):\n",
    "    return ns[slugify(instance)]\n",
    "\n",
    "def create_dimension_elements(mapping, ns):\n",
    "    dimEls = []\n",
    "    for l in mapping[0]:\n",
    "        d = instanciate_dimension_element(l, ns)\n",
    "        dimEls.append( (d, RDF.type, mapping[1]) )\n",
    "        dimEls.append( (d, RDFS.label, Literal(l, lang='de')) )\n",
    "    return dimEls\n",
    "\n",
    "def create_observation(idx, value, measure, dimEls_t, dims_t, ns, ds):\n",
    "    ob_instance = ns['obs-' + str(idx)]\n",
    "    return [\n",
    "        (ob_instance, RDF.type, qb.Observation),\n",
    "        (ob_instance, qb.dataSet, ds),\n",
    "        (ob_instance, measure, Literal(value, datatype=XSD.float)),\n",
    "        (ob_instance, dims_t[0], dimEls_t[0]),\n",
    "        (ob_instance, dims_t[1], dimEls_t[1])\n",
    "    ]\n",
    "\n",
    "dataset_instance = 'dataset'\n",
    "dsd_instance = 'dsd'\n",
    "cs_instance = 'cd'\n",
    "measure_count_instance_cs = 'countCS'\n",
    "dimension_feature_instance_cs = 'featureCS'\n",
    "dimension_category_instance_cs = 'categoryCS'\n",
    "measure_count_instance = 'count'\n",
    "dimension_feature_instance = 'feature'\n",
    "dimension_category_instance = 'category'\n",
    "    \n",
    "g = Graph()\n",
    "g.add((bvl[dataset_instance], RDF.type, qb.DataSet))\n",
    "g.add((bvl[dataset_instance], qb.structure, bvl[dsd_instance]))\n",
    "\n",
    "g.add((bvl[dsd_instance], RDF.type, qb.DataStructureDefinition))\n",
    "g.add((bvl[dsd_instance], qb.component, bvl[dimension_feature_instance_cs]))\n",
    "g.add((bvl[dsd_instance], qb.component, bvl[dimension_category_instance_cs]))\n",
    "g.add((bvl[dsd_instance], qb.component, bvl[measure_count_instance_cs]))\n",
    "\n",
    "g.add((bvl[dimension_feature_instance_cs], RDF.type, qb.ComponentSpecification))\n",
    "g.add((bvl[dimension_feature_instance_cs], qb.dimension, bvl[dimension_feature_instance]))\n",
    "\n",
    "g.add((bvl[dimension_category_instance_cs], RDF.type, qb.ComponentSpecification))\n",
    "g.add((bvl[dimension_category_instance_cs], qb.dimension, bvl[dimension_category_instance]))\n",
    "\n",
    "g.add((bvl[measure_count_instance_cs], RDF.type, qb.ComponentSpecification))\n",
    "g.add((bvl[measure_count_instance_cs], qb.measure, bvl[measure_count_instance]))\n",
    "\n",
    "g.add((bvl[measure_count_instance], RDF.type, qb.MeasureProperty))\n",
    "g.add((bvl[measure_count_instance], RDFS.label, Literal('Anzahl', lang='de')))\n",
    "g.add((bvl[measure_count_instance], RDFS.label, Literal('Count', lang='en')))\n",
    "g.add((bvl[measure_count_instance], RDFS.range, XSD.decimal))\n",
    "\n",
    "g.add((bvl[dimension_feature_instance], RDF.type, qb.DimensionProperty))     \n",
    "g.add((bvl[dimension_feature_instance], RDFS.label, Literal('Merkmal', lang='de')))     \n",
    "g.add((bvl[dimension_feature_instance], RDFS.label, Literal('Feature', lang='en')))     \n",
    "\n",
    "g.add((bvl[dimension_category_instance], RDF.type, qb.DimensionProperty))     \n",
    "g.add((bvl[dimension_category_instance], RDFS.label, Literal('Kategorie', lang='de')))     \n",
    "g.add((bvl[dimension_category_instance], RDFS.label, Literal('Category', lang='en')))  \n",
    "\n",
    "mappings = [\n",
    "    (dataframe.columns, bvl[dimension_feature_instance]),\n",
    "    (dataframe.index, bvl[dimension_category_instance])\n",
    "]\n",
    "\n",
    "for mapping in mappings:\n",
    "    dimEls = create_dimension_elements(mapping, bvl)\n",
    "    add_to_graph(dimEls, g)\n",
    "\n",
    "for idx, row_t in enumerate(dataframe.iterrows()):\n",
    "    row_dimEl = instanciate_dimension_element(row_t[0], bvl)\n",
    "    for idy, i_t in enumerate(row_t[1].iteritems()):\n",
    "        item_dimEl = instanciate_dimension_element(i_t[0], bvl)\n",
    "        value = i_t[1]\n",
    "        ob = create_observation(str(idx) + str(idy), value, bvl[measure_count_instance], (row_dimEl, item_dimEl), (bvl[dimension_category_instance], bvl[dimension_feature_instance]),bvl, bvl[dataset_instance])\n",
    "        add_to_graph(ob, g)"
   ]
  },
  {
   "cell_type": "markdown",
   "metadata": {},
   "source": [
    "## Write Datacube"
   ]
  },
  {
   "cell_type": "code",
   "execution_count": 3,
   "metadata": {
    "collapsed": false
   },
   "outputs": [],
   "source": [
    "output = 'data/datacube.ttl'\n",
    "g.serialize(destination=output, format='turtle', encoding='utf-8')"
   ]
  }
 ],
 "metadata": {
  "anaconda-cloud": {},
  "kernelspec": {
   "display_name": "Python [Root]",
   "language": "python",
   "name": "Python [Root]"
  },
  "language_info": {
   "codemirror_mode": {
    "name": "ipython",
    "version": 3
   },
   "file_extension": ".py",
   "mimetype": "text/x-python",
   "name": "python",
   "nbconvert_exporter": "python",
   "pygments_lexer": "ipython3",
   "version": "3.5.2"
  }
 },
 "nbformat": 4,
 "nbformat_minor": 0
}
